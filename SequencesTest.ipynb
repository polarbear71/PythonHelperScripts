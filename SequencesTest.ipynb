{
 "cells": [
  {
   "cell_type": "code",
   "execution_count": 1,
   "metadata": {},
   "outputs": [
    {
     "name": "stdout",
     "output_type": "stream",
     "text": [
      "13579\n"
     ]
    }
   ],
   "source": [
    "ziffern = \"0123456789\"\n",
    "print(ziffern[1:10:2])"
   ]
  },
  {
   "cell_type": "code",
   "execution_count": 2,
   "metadata": {},
   "outputs": [
    {
     "name": "stdout",
     "output_type": "stream",
     "text": [
      "13579\n"
     ]
    }
   ],
   "source": [
    "print(ziffern[1::2])"
   ]
  },
  {
   "cell_type": "code",
   "execution_count": 12,
   "metadata": {},
   "outputs": [
    {
     "name": "stdout",
     "output_type": "stream",
     "text": [
      "[0, 1, 4, 9, 16, 25, 36, 49, 64, 81]\n",
      "Quadratzahl von 4: 16\n",
      "Quadratzahl von 5: 25\n",
      "Quadratzahl von 6: 36\n",
      "Quadratzahl von 7: 49\n",
      "Quadratzahl von 8: 64\n",
      "Quadratzahl von 9: 81\n"
     ]
    }
   ],
   "source": [
    "quadratZahlen = [i*i for i in range(10)]\n",
    "print(quadratZahlen)\n",
    "for i in range(4, len(quadratZahlen)):\n",
    "    print(\"Quadratzahl von \" + str(i) + \": \" + str(quadratZahlen[i]))"
   ]
  },
  {
   "cell_type": "code",
   "execution_count": null,
   "metadata": {},
   "outputs": [],
   "source": []
  }
 ],
 "metadata": {
  "kernelspec": {
   "display_name": "Python 3",
   "language": "python",
   "name": "python3"
  },
  "language_info": {
   "codemirror_mode": {
    "name": "ipython",
    "version": 3
   },
   "file_extension": ".py",
   "mimetype": "text/x-python",
   "name": "python",
   "nbconvert_exporter": "python",
   "pygments_lexer": "ipython3",
   "version": "3.7.1"
  }
 },
 "nbformat": 4,
 "nbformat_minor": 2
}
