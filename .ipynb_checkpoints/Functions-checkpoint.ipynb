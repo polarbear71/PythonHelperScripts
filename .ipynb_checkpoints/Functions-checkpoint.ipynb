{
 "cells": [
  {
   "cell_type": "code",
   "execution_count": 1,
   "metadata": {},
   "outputs": [
    {
     "name": "stdout",
     "output_type": "stream",
     "text": [
      "35\n",
      "35\n",
      "35\n",
      "35\n",
      "35\n"
     ]
    }
   ],
   "source": [
    "def addAndMultiply(a, b, c):\n",
    "    return (a+b)*c\n",
    "\n",
    "for i in range(0,5):\n",
    "    print(addAndMultiply(3, 4, 5))"
   ]
  },
  {
   "cell_type": "code",
   "execution_count": 2,
   "metadata": {},
   "outputs": [
    {
     "name": "stdout",
     "output_type": "stream",
     "text": [
      "None\n",
      "[3, 4, 5, 'Wort', 'Noch ein Wort', 'Zusatz', 3, 4, 5, 'Wort', 'Noch ein Wort', 'Zusatz']\n"
     ]
    }
   ],
   "source": [
    "def appendAndMultiplyList(liste, m=1):\n",
    "    liste.append('Zusatz')\n",
    "    liste *= m\n",
    "\n",
    "externlist = [3, 4, 5, 'Wort', 'Noch ein Wort']\n",
    "print(appendAndMultiplyList(externlist, 2))\n",
    "print(externlist)"
   ]
  },
  {
   "cell_type": "code",
   "execution_count": 14,
   "metadata": {},
   "outputs": [
    {
     "name": "stdout",
     "output_type": "stream",
     "text": [
      "1\n",
      "[0]\n"
     ]
    }
   ],
   "source": [
    "def appendAndMultiplyList2(*liste):\n",
    "    print(liste)\n",
    "    \n",
    "externlist = [3, 4, 5, 'Wort', 'Noch ein Wort']\n",
    "nochEineListe = appendAndMultiplyList2(externlist[:])\n",
    "print(nochEineListe)\n"
   ]
  },
  {
   "cell_type": "code",
   "execution_count": null,
   "metadata": {},
   "outputs": [],
   "source": []
  }
 ],
 "metadata": {
  "kernelspec": {
   "display_name": "Python 3",
   "language": "python",
   "name": "python3"
  },
  "language_info": {
   "codemirror_mode": {
    "name": "ipython",
    "version": 3
   },
   "file_extension": ".py",
   "mimetype": "text/x-python",
   "name": "python",
   "nbconvert_exporter": "python",
   "pygments_lexer": "ipython3",
   "version": "3.7.3"
  }
 },
 "nbformat": 4,
 "nbformat_minor": 2
}
