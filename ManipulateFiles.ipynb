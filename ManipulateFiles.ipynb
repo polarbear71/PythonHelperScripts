{
 "cells": [
  {
   "cell_type": "code",
   "execution_count": 2,
   "metadata": {},
   "outputs": [],
   "source": [
    "import shutil\n",
    "import os"
   ]
  },
  {
   "cell_type": "markdown",
   "metadata": {},
   "source": [
    "Copy specific file from one folder to another    \n",
    "Benutzung von Raw-Strings: r\"text\" --> Escape-Zeichen werden nicht als solche interpretiert"
   ]
  },
  {
   "cell_type": "code",
   "execution_count": 3,
   "metadata": {},
   "outputs": [
    {
     "data": {
      "text/plain": [
       "'C:\\\\Users\\\\User\\\\Desktop\\\\GitHubRepo\\\\PythonHelperScripts\\\\FileStructure\\\\Subfolder2\\\\Testdatei1.txt'"
      ]
     },
     "execution_count": 3,
     "metadata": {},
     "output_type": "execute_result"
    }
   ],
   "source": [
    "shutil.copy(r\"C:\\Users\\User\\Desktop\\GitHubRepo\\PythonHelperScripts\\FileStructure\\Subfolder1\\Testdatei1.txt\",\n",
    "            r\"C:\\Users\\User\\Desktop\\GitHubRepo\\PythonHelperScripts\\FileStructure\\Subfolder2\\Testdatei1.txt\")"
   ]
  },
  {
   "cell_type": "markdown",
   "metadata": {},
   "source": [
    "Copy all files from one folder to another"
   ]
  },
  {
   "cell_type": "code",
   "execution_count": 15,
   "metadata": {},
   "outputs": [
    {
     "name": "stdout",
     "output_type": "stream",
     "text": [
      "C:\\Users\\User\\Desktop\\GitHubRepo\\PythonHelperScripts\\FileStructure\\Subfolder1\n"
     ]
    }
   ],
   "source": [
    "path = os.getcwd()\n",
    "print(path)"
   ]
  },
  {
   "cell_type": "code",
   "execution_count": 19,
   "metadata": {},
   "outputs": [
    {
     "name": "stdout",
     "output_type": "stream",
     "text": [
      "C:\\Users\\User\\Desktop\\GitHubRepo\\PythonHelperScripts\\FileStructure\\Subfolder1\n",
      "Files in subfolder: \n",
      "Testdatei4.txt\n",
      "Testdatei4.txt\n",
      "Testdatei4.txt\n",
      "Testdatei4.txt\n",
      "Destination folder: C:\\Users\\User\\Desktop\\GitHubRepo\\PythonHelperScripts\\FileStructure\\Subfolder2\n"
     ]
    }
   ],
   "source": [
    "# Create list of all files (not directories) in one folder\n",
    "path = os.chdir(r\"C:\\Users\\User\\Desktop\\GitHubRepo\\PythonHelperScripts\\FileStructure\\Subfolder1\")\n",
    "path = os.getcwd()\n",
    "print(path)\n",
    "filelist = os.listdir(os.getcwd())\n",
    "print(\"Files in subfolder: \")\n",
    "for singlefile in filelist: print(file)\n",
    "\n",
    "# Define destination folder\n",
    "destinationFolder = r\"C:\\Users\\User\\Desktop\\GitHubRepo\\PythonHelperScripts\\FileStructure\\Subfolder2\"\n",
    "print(\"Destination folder: \" + destinationFolder)"
   ]
  },
  {
   "cell_type": "code",
   "execution_count": 23,
   "metadata": {},
   "outputs": [
    {
     "name": "stdout",
     "output_type": "stream",
     "text": [
      "C:\\Users\\User\\Desktop\\GitHubRepo\\PythonHelperScripts\\FileStructure\\Subfolder1\\Testdatei1.txt\n",
      "C:\\Users\\User\\Desktop\\GitHubRepo\\PythonHelperScripts\\FileStructure\\Subfolder1\\Testdatei2.txt\n",
      "C:\\Users\\User\\Desktop\\GitHubRepo\\PythonHelperScripts\\FileStructure\\Subfolder1\\Testdatei3.txt\n",
      "C:\\Users\\User\\Desktop\\GitHubRepo\\PythonHelperScripts\\FileStructure\\Subfolder1\\Testdatei4.txt\n"
     ]
    }
   ],
   "source": [
    "# Copy files in the list to destination directory\n",
    "for singlefile in filelist:\n",
    "    sourcefile = os.path.join(r\"C:\\Users\\User\\Desktop\\GitHubRepo\\PythonHelperScripts\\FileStructure\\Subfolder1\", singlefile)\n",
    "    print(sourcefile)\n",
    "    shutil.copy(sourcefile, destinationFolder)"
   ]
  },
  {
   "cell_type": "code",
   "execution_count": null,
   "metadata": {},
   "outputs": [],
   "source": []
  },
  {
   "cell_type": "code",
   "execution_count": null,
   "metadata": {},
   "outputs": [],
   "source": []
  }
 ],
 "metadata": {
  "kernelspec": {
   "display_name": "Python 3",
   "language": "python",
   "name": "python3"
  },
  "language_info": {
   "codemirror_mode": {
    "name": "ipython",
    "version": 3
   },
   "file_extension": ".py",
   "mimetype": "text/x-python",
   "name": "python",
   "nbconvert_exporter": "python",
   "pygments_lexer": "ipython3",
   "version": "3.7.3"
  }
 },
 "nbformat": 4,
 "nbformat_minor": 2
}
