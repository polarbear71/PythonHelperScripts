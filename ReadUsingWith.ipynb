{
 "cells": [
  {
   "cell_type": "code",
   "execution_count": 29,
   "metadata": {},
   "outputs": [
    {
     "name": "stdout",
     "output_type": "stream",
     "text": [
      "ID: ist: 01\n",
      "Name ist: Name01\n",
      "Amount ist: Amount01\n",
      "ID: ist: 02\n",
      "Name ist: Name02\n",
      "Amount ist: Amount02\n",
      "ID: ist: 03\n",
      "Name ist: Name03\n",
      "Amount ist: Amount03\n",
      "01\n",
      "Name01\n",
      "Amount01\n",
      "02\n",
      "Name02\n",
      "Amount02\n",
      "03\n",
      "Name03\n",
      "Amount03\n"
     ]
    }
   ],
   "source": [
    "import ReadFromFileAndAnalyseHelper as RFF\n",
    "\n",
    "nalist = [RFF.NameAmount(\"\",\"\",\"\")] # Create NameAmount list\n",
    "del nalist[0] # Delete first element to have an empty list\n",
    "\n",
    "with open(\"Input.txt\", \"r\") as file:\n",
    "    constId = \"ID:\"\n",
    "    constName = \"Name:\"\n",
    "    constAmount = \"Amount:\"\n",
    "    \n",
    "    for line in file:\n",
    "        if (line.find(constId) != -1):\n",
    "            pos = line.find(constId) + len(constId)\n",
    "            id = line[pos:len(line)-1].strip()\n",
    "            na = RFF.NameAmount(\"\",\"\",\"\") # empty NameAmount object\n",
    "            na.setId(id)\n",
    "            print(constId + \" ist: \" + id)\n",
    "        if (line.find(\"Name:\") != -1):\n",
    "            pos = line.find(\"Name:\") + 6\n",
    "            name = line[pos:len(line)-1].strip()\n",
    "            na.setName(name)\n",
    "            print(\"Name ist: \" + name)\n",
    "        if (line.find(\"Amount:\") != -1):\n",
    "            pos = line.find(\"Amount:\") + 8\n",
    "            amount = line[pos:len(line)-1].strip()\n",
    "            na.setAmount(amount)\n",
    "            nalist.append(na)\n",
    "            print(\"Amount ist: \" + amount)\n",
    "\n",
    "# Print nameAmoutList\n",
    "for i in range(len(nalist)):\n",
    "    print(nalist[i].Id)\n",
    "    print(nalist[i].Name)\n",
    "    print(nalist[i].Amount)   "
   ]
  },
  {
   "cell_type": "code",
   "execution_count": null,
   "metadata": {},
   "outputs": [],
   "source": []
  }
 ],
 "metadata": {
  "kernelspec": {
   "display_name": "Python 3",
   "language": "python",
   "name": "python3"
  },
  "language_info": {
   "codemirror_mode": {
    "name": "ipython",
    "version": 3
   },
   "file_extension": ".py",
   "mimetype": "text/x-python",
   "name": "python",
   "nbconvert_exporter": "python",
   "pygments_lexer": "ipython3",
   "version": "3.7.1"
  }
 },
 "nbformat": 4,
 "nbformat_minor": 2
}
