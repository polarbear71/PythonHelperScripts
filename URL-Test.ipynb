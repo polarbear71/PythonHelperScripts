{
 "cells": [
  {
   "cell_type": "code",
   "execution_count": 2,
   "metadata": {},
   "outputs": [
    {
     "data": {
      "text/plain": [
       "['Server',\n",
       " 'Date',\n",
       " 'Content-Type',\n",
       " 'Last-Modified',\n",
       " 'Cache-Control',\n",
       " 'Age',\n",
       " 'Strict-Transport-Security',\n",
       " 'X-Frame-Options',\n",
       " 'X-XSS-Protection',\n",
       " 'X-Content-Type-Options',\n",
       " 'Vary',\n",
       " 'Accept-Ranges',\n",
       " 'Content-Length',\n",
       " 'Connection']"
      ]
     },
     "execution_count": 2,
     "metadata": {},
     "output_type": "execute_result"
    }
   ],
   "source": [
    "import urllib.request\n",
    "\n",
    "f = urllib.request.urlopen(\"http://heise.de\")\n",
    "d = f.info()\n",
    "d.keys()\n"
   ]
  },
  {
   "cell_type": "code",
   "execution_count": null,
   "metadata": {},
   "outputs": [],
   "source": []
  }
 ],
 "metadata": {
  "kernelspec": {
   "display_name": "Python 3",
   "language": "python",
   "name": "python3"
  },
  "language_info": {
   "codemirror_mode": {
    "name": "ipython",
    "version": 3
   },
   "file_extension": ".py",
   "mimetype": "text/x-python",
   "name": "python",
   "nbconvert_exporter": "python",
   "pygments_lexer": "ipython3",
   "version": "3.7.1"
  }
 },
 "nbformat": 4,
 "nbformat_minor": 2
}
