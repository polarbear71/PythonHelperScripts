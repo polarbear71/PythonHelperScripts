{
 "cells": [
  {
   "cell_type": "code",
   "execution_count": 1,
   "metadata": {},
   "outputs": [
    {
     "name": "stdout",
     "output_type": "stream",
     "text": [
      "[0, 1, 4, 9, 16, 25, 36, 49, 64, 81]\n",
      "[0, 2, 4, 6, 8, 10, 12, 14, 16, 18]\n"
     ]
    }
   ],
   "source": [
    "list1 = [i*i for i in range(10)]\n",
    "list2 = [i*2 for i in range(10)]\n",
    "print(list1)\n",
    "print(list2)"
   ]
  },
  {
   "cell_type": "code",
   "execution_count": 2,
   "metadata": {},
   "outputs": [
    {
     "name": "stdout",
     "output_type": "stream",
     "text": [
      "list3: [0, 1, 4, 9, 16, 25, 36, 49, 64, 81, [0, 2, 4, 6, 8, 10, 12, 14, 16, 18]]\n",
      "list2: [0, 2, 4, 6, 8, 10, 12, 14, 16, 18]\n",
      "list1: [0, 1, 4, 9, 16, 25, 36, 49, 64, 81, [0, 2, 4, 6, 8, 10, 12, 14, 16, 18]]\n"
     ]
    }
   ],
   "source": [
    "list3 = list1\n",
    "list3.append(list2)\n",
    "print(\"list3: \" + str(list3))\n",
    "print(\"list2: \" + str(list2))\n",
    "print(\"list1: \" + str(list1))"
   ]
  },
  {
   "cell_type": "code",
   "execution_count": 3,
   "metadata": {},
   "outputs": [
    {
     "name": "stdout",
     "output_type": "stream",
     "text": [
      "list3: [0, 1, 4, 9, 16, 25, 36, 49, 64, 81, [0, 333, 4, 6, 8, 10, 12, 14, 16, 18]]\n",
      "list2: [0, 333, 4, 6, 8, 10, 12, 14, 16, 18]\n",
      "list1: [0, 1, 4, 9, 16, 25, 36, 49, 64, 81, [0, 333, 4, 6, 8, 10, 12, 14, 16, 18]]\n"
     ]
    }
   ],
   "source": [
    "list2[1] = 333\n",
    "print(\"list3: \" + str(list3))\n",
    "print(\"list2: \" + str(list2))\n",
    "print(\"list1: \" + str(list1))"
   ]
  },
  {
   "cell_type": "code",
   "execution_count": 4,
   "metadata": {},
   "outputs": [
    {
     "name": "stdout",
     "output_type": "stream",
     "text": [
      "list3: [0, 1, 4, 9, 16, 25, 36, 49, 64, 81, [0, 333, 444, 6, 8, 10, 12, 14, 16, 18]]\n",
      "list2: [0, 333, 444, 6, 8, 10, 12, 14, 16, 18]\n",
      "list1: [0, 1, 4, 9, 16, 25, 36, 49, 64, 81, [0, 333, 444, 6, 8, 10, 12, 14, 16, 18]]\n"
     ]
    }
   ],
   "source": [
    "list3[10][2] = 444\n",
    "print(\"list3: \" + str(list3))\n",
    "print(\"list2: \" + str(list2))\n",
    "print(\"list1: \" + str(list1))"
   ]
  },
  {
   "cell_type": "code",
   "execution_count": 5,
   "metadata": {},
   "outputs": [
    {
     "name": "stdout",
     "output_type": "stream",
     "text": [
      "list3: [0, 1, 4, 9, 16, 25, 36, 49, 64, 81, 0, 2, 4, 6, 8, 10, 12, 14, 16, 18]\n",
      "list2: [0, 2, 4, 6, 8, 10, 12, 14, 16, 18]\n",
      "list1: [0, 1, 4, 9, 16, 25, 36, 49, 64, 81, 0, 2, 4, 6, 8, 10, 12, 14, 16, 18]\n"
     ]
    }
   ],
   "source": [
    "list1 = [i*i for i in range(10)]\n",
    "list2 = [i*2 for i in range(10)]\n",
    "list3 = list1\n",
    "list3.extend(list2)\n",
    "print(\"list3: \" + str(list3))\n",
    "print(\"list2: \" + str(list2))\n",
    "print(\"list1: \" + str(list1))"
   ]
  },
  {
   "cell_type": "code",
   "execution_count": 6,
   "metadata": {},
   "outputs": [
    {
     "name": "stdout",
     "output_type": "stream",
     "text": [
      "list4: [0, 1, 100, 9, 16, 25, 36, 49, 64, 81, 0, 2, 4, 6, 8, 10, 12, 14, 16, 18]\n",
      "list3: [0, 1, 4, 9, 16, 25, 36, 49, 64, 81, 0, 2, 4, 6, 8, 10, 12, 14, 16, 18]\n",
      "list2: [0, 2, 4, 6, 8, 10, 12, 14, 16, 18]\n",
      "list1: [0, 1, 4, 9, 16, 25, 36, 49, 64, 81, 0, 2, 4, 6, 8, 10, 12, 14, 16, 18]\n"
     ]
    }
   ],
   "source": [
    "list4 = list1[:]\n",
    "list4[2] = 100\n",
    "print(\"list4: \" + str(list4))\n",
    "print(\"list3: \" + str(list3))\n",
    "print(\"list2: \" + str(list2))\n",
    "print(\"list1: \" + str(list1))"
   ]
  },
  {
   "cell_type": "code",
   "execution_count": 7,
   "metadata": {},
   "outputs": [
    {
     "data": {
      "text/plain": [
       "tuple"
      ]
     },
     "execution_count": 7,
     "metadata": {},
     "output_type": "execute_result"
    }
   ],
   "source": [
    "datum = 1, 2, 2020\n",
    "type(datum)"
   ]
  },
  {
   "cell_type": "code",
   "execution_count": 8,
   "metadata": {},
   "outputs": [
    {
     "data": {
      "text/plain": [
       "(1, 2, 2020)"
      ]
     },
     "execution_count": 8,
     "metadata": {},
     "output_type": "execute_result"
    }
   ],
   "source": [
    "datum"
   ]
  },
  {
   "cell_type": "code",
   "execution_count": 12,
   "metadata": {},
   "outputs": [
    {
     "name": "stdout",
     "output_type": "stream",
     "text": [
      "2\n",
      "2\n"
     ]
    }
   ],
   "source": [
    "(tag, monat, jahr) = datum\n",
    "print(monat)\n",
    "print(datum[1])"
   ]
  },
  {
   "cell_type": "code",
   "execution_count": null,
   "metadata": {},
   "outputs": [],
   "source": []
  }
 ],
 "metadata": {
  "kernelspec": {
   "display_name": "Python 3",
   "language": "python",
   "name": "python3"
  },
  "language_info": {
   "codemirror_mode": {
    "name": "ipython",
    "version": 3
   },
   "file_extension": ".py",
   "mimetype": "text/x-python",
   "name": "python",
   "nbconvert_exporter": "python",
   "pygments_lexer": "ipython3",
   "version": "3.7.3"
  }
 },
 "nbformat": 4,
 "nbformat_minor": 2
}
